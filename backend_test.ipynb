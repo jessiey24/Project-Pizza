{
 "cells": [
  {
   "cell_type": "markdown",
   "metadata": {},
   "source": [
    "## Test initialization"
   ]
  },
  {
   "cell_type": "code",
   "execution_count": 1,
   "metadata": {},
   "outputs": [
    {
     "name": "stdout",
     "output_type": "stream",
     "text": [
      "Database initialized\n"
     ]
    }
   ],
   "source": [
    "import Backend"
   ]
  },
  {
   "cell_type": "markdown",
   "metadata": {},
   "source": [
    "## Test add_to_cart"
   ]
  },
  {
   "cell_type": "code",
   "execution_count": 2,
   "metadata": {},
   "outputs": [],
   "source": [
    "pizza_details_1 = {\n",
    "    'size': 'Small',\n",
    "    'crust': 'Hand Tossed',\n",
    "    'toppings': ['Ham', 'Sausage', 'Onion'],\n",
    "    'price': 10.99\n",
    "}\n",
    "pizza_details_2 = {\n",
    "    'size': 'Medium',\n",
    "    'crust': 'Stuffed',\n",
    "    'toppings': ['Green Bell Pepper'],\n",
    "    'price': 10.99\n",
    "}\n",
    "pizza_details_3 = {\n",
    "    'size': 'Large',\n",
    "    'crust': 'Thin \\'n\\' Crispy',\n",
    "    'toppings': ['Pepperoni', 'Mushroom', 'Sausage', 'Jalapeno'],\n",
    "    'price': 15.99\n",
    "}\n",
    "\n",
    "Backend.add_to_cart(pizza_details_1)\n",
    "Backend.add_to_cart(pizza_details_2)\n",
    "Backend.add_to_cart(pizza_details_3)"
   ]
  },
  {
   "cell_type": "markdown",
   "metadata": {},
   "source": [
    "## Test get_cart"
   ]
  },
  {
   "cell_type": "code",
   "execution_count": 3,
   "metadata": {},
   "outputs": [
    {
     "name": "stdout",
     "output_type": "stream",
     "text": [
      "[{'size': 'Small', 'crust': 'Hand Tossed', 'toppings': ['Ham', 'Onion', 'Sausage'], 'price': 10.99}, {'size': 'Medium', 'crust': 'Stuffed', 'toppings': ['Green Bell Pepper'], 'price': 10.99}, {'size': 'Large', 'crust': \"Thin 'n' Crispy\", 'toppings': ['Jalapeno', 'Mushroom', 'Pepperoni', 'Sausage'], 'price': 15.99}]\n"
     ]
    }
   ],
   "source": [
    "cart = Backend.get_cart()\n",
    "\n",
    "print(cart)"
   ]
  },
  {
   "cell_type": "markdown",
   "metadata": {},
   "source": [
    "### Print cart in human readable form"
   ]
  },
  {
   "cell_type": "code",
   "execution_count": 4,
   "metadata": {},
   "outputs": [
    {
     "name": "stdout",
     "output_type": "stream",
     "text": [
      "Small - Hand Tossed\n",
      "Toppings:\n",
      "Ham\n",
      "Onion\n",
      "Sausage\n",
      "Price: 10.99\n",
      "\n",
      "Medium - Stuffed\n",
      "Toppings:\n",
      "Green Bell Pepper\n",
      "Price: 10.99\n",
      "\n",
      "Large - Thin 'n' Crispy\n",
      "Toppings:\n",
      "Jalapeno\n",
      "Mushroom\n",
      "Pepperoni\n",
      "Sausage\n",
      "Price: 15.99\n",
      "\n"
     ]
    }
   ],
   "source": [
    "def print_cart(cart):\n",
    "    for pizza in cart:\n",
    "        size = pizza['size']\n",
    "        crust = pizza['crust']\n",
    "        price = pizza['price']\n",
    "\n",
    "        print(f'{size} - {crust}')\n",
    "        print('Toppings:')\n",
    "        for topping in pizza['toppings']:\n",
    "            print(topping)\n",
    "        print(f'Price: {price}\\n')\n",
    "\n",
    "print_cart(cart)"
   ]
  },
  {
   "cell_type": "markdown",
   "metadata": {},
   "source": [
    "## Test remove_from_cart\n",
    "\n",
    "### Delete first pizza"
   ]
  },
  {
   "cell_type": "code",
   "execution_count": 5,
   "metadata": {},
   "outputs": [],
   "source": [
    "Backend.remove_from_cart(0)"
   ]
  },
  {
   "cell_type": "code",
   "execution_count": 6,
   "metadata": {},
   "outputs": [
    {
     "name": "stdout",
     "output_type": "stream",
     "text": [
      "Medium - Stuffed\n",
      "Toppings:\n",
      "Green Bell Pepper\n",
      "Price: 10.99\n",
      "\n",
      "Large - Thin 'n' Crispy\n",
      "Toppings:\n",
      "Jalapeno\n",
      "Mushroom\n",
      "Pepperoni\n",
      "Sausage\n",
      "Price: 15.99\n",
      "\n"
     ]
    }
   ],
   "source": [
    "cart = Backend.get_cart()\n",
    "print_cart(cart)"
   ]
  },
  {
   "cell_type": "markdown",
   "metadata": {},
   "source": [
    "### Delete last pizza"
   ]
  },
  {
   "cell_type": "code",
   "execution_count": 7,
   "metadata": {},
   "outputs": [],
   "source": [
    "Backend.remove_from_cart(1)"
   ]
  },
  {
   "cell_type": "code",
   "execution_count": 8,
   "metadata": {},
   "outputs": [
    {
     "name": "stdout",
     "output_type": "stream",
     "text": [
      "Medium - Stuffed\n",
      "Toppings:\n",
      "Green Bell Pepper\n",
      "Price: 10.99\n",
      "\n"
     ]
    }
   ],
   "source": [
    "print_cart(Backend.get_cart())"
   ]
  },
  {
   "cell_type": "markdown",
   "metadata": {},
   "source": [
    "### Test invalid index"
   ]
  },
  {
   "cell_type": "code",
   "execution_count": 9,
   "metadata": {},
   "outputs": [
    {
     "ename": "IndexError",
     "evalue": "Error removing pizza from cart: Invalid index",
     "output_type": "error",
     "traceback": [
      "\u001b[0;31m---------------------------------------------------------------------------\u001b[0m",
      "\u001b[0;31mIndexError\u001b[0m                                Traceback (most recent call last)",
      "Cell \u001b[0;32mIn[9], line 1\u001b[0m\n\u001b[0;32m----> 1\u001b[0m \u001b[43mBackend\u001b[49m\u001b[38;5;241;43m.\u001b[39;49m\u001b[43mremove_from_cart\u001b[49m\u001b[43m(\u001b[49m\u001b[38;5;241;43m1\u001b[39;49m\u001b[43m)\u001b[49m\n",
      "File \u001b[0;32m~/Documents/GitHub/Project-Pizza/Backend/__init__.py:69\u001b[0m, in \u001b[0;36mremove_from_cart\u001b[0;34m(index)\u001b[0m\n\u001b[1;32m     67\u001b[0m     \u001b[38;5;28;01mraise\u001b[39;00m \u001b[38;5;167;01mIndexError\u001b[39;00m(\u001b[38;5;124m'\u001b[39m\u001b[38;5;124mError removing pizza from cart: Cart is empty\u001b[39m\u001b[38;5;124m'\u001b[39m)\n\u001b[1;32m     68\u001b[0m \u001b[38;5;28;01melif\u001b[39;00m index \u001b[38;5;241m<\u001b[39m \u001b[38;5;241m0\u001b[39m \u001b[38;5;129;01mor\u001b[39;00m index \u001b[38;5;241m>\u001b[39m\u001b[38;5;241m=\u001b[39m pizzas\u001b[38;5;241m.\u001b[39m\u001b[38;5;21m__len__\u001b[39m():\n\u001b[0;32m---> 69\u001b[0m     \u001b[38;5;28;01mraise\u001b[39;00m \u001b[38;5;167;01mIndexError\u001b[39;00m(\u001b[38;5;124m'\u001b[39m\u001b[38;5;124mError removing pizza from cart: Invalid index\u001b[39m\u001b[38;5;124m'\u001b[39m)\n\u001b[1;32m     71\u001b[0m \u001b[38;5;28;01mtry\u001b[39;00m:\n\u001b[1;32m     72\u001b[0m     \u001b[38;5;66;03m# Remove row from Cart table\u001b[39;00m\n\u001b[1;32m     73\u001b[0m     pizzaId \u001b[38;5;241m=\u001b[39m pizzas[index][\u001b[38;5;241m0\u001b[39m]\n",
      "\u001b[0;31mIndexError\u001b[0m: Error removing pizza from cart: Invalid index"
     ]
    }
   ],
   "source": [
    "Backend.remove_from_cart(1)"
   ]
  },
  {
   "cell_type": "markdown",
   "metadata": {},
   "source": [
    "## Test purchase_cart"
   ]
  },
  {
   "cell_type": "code",
   "execution_count": 10,
   "metadata": {},
   "outputs": [],
   "source": [
    "Backend.purchase_cart()"
   ]
  },
  {
   "cell_type": "code",
   "execution_count": 11,
   "metadata": {},
   "outputs": [
    {
     "name": "stdout",
     "output_type": "stream",
     "text": [
      "[]\n"
     ]
    }
   ],
   "source": [
    "print(Backend.get_cart())"
   ]
  }
 ],
 "metadata": {
  "kernelspec": {
   "display_name": ".venv",
   "language": "python",
   "name": "python3"
  },
  "language_info": {
   "codemirror_mode": {
    "name": "ipython",
    "version": 3
   },
   "file_extension": ".py",
   "mimetype": "text/x-python",
   "name": "python",
   "nbconvert_exporter": "python",
   "pygments_lexer": "ipython3",
   "version": "3.11.8"
  }
 },
 "nbformat": 4,
 "nbformat_minor": 2
}
