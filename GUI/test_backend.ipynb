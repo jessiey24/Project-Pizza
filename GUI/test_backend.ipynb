{
 "cells": [
  {
   "cell_type": "markdown",
   "metadata": {},
   "source": [
    "#### Remove database to start with clean slate"
   ]
  },
  {
   "cell_type": "code",
   "execution_count": 1,
   "metadata": {},
   "outputs": [],
   "source": [
    "import os\n",
    "\n",
    "os.remove('Data.db')"
   ]
  },
  {
   "cell_type": "markdown",
   "metadata": {},
   "source": [
    "#### Test database initialization"
   ]
  },
  {
   "cell_type": "code",
   "execution_count": 2,
   "metadata": {},
   "outputs": [
    {
     "name": "stdout",
     "output_type": "stream",
     "text": [
      "Database initialized\n"
     ]
    }
   ],
   "source": [
    "from Backend import *"
   ]
  },
  {
   "cell_type": "markdown",
   "metadata": {},
   "source": [
    "#### Test PizzaDetails validation\n",
    "\n",
    "Invalid Size"
   ]
  },
  {
   "cell_type": "code",
   "execution_count": 3,
   "metadata": {},
   "outputs": [
    {
     "name": "stdout",
     "output_type": "stream",
     "text": [
      "Error creating PizzaDetails: \"large\" is not a valid size name. Valid sizes are \"Lage\", \"Medium\", and \"Small\".\n"
     ]
    }
   ],
   "source": [
    "try:\n",
    "    test_pizza = PizzaDetails('large', \"Thin 'n' Crispy\", ['Sausage', 'Black Olives'])\n",
    "except Exception as e:\n",
    "    print(e)"
   ]
  },
  {
   "cell_type": "markdown",
   "metadata": {},
   "source": [
    "Invalid crust"
   ]
  },
  {
   "cell_type": "code",
   "execution_count": 4,
   "metadata": {},
   "outputs": [
    {
     "name": "stdout",
     "output_type": "stream",
     "text": [
      "Error creating PizzaDetails: \"Thin 'n' Crisp\" is not a valid crust name. Valid crust names are \"Hand Tossed\", \"Thin 'n' Crispy\", and \"Stuffed Crust\".\n"
     ]
    }
   ],
   "source": [
    "try:\n",
    "    test_pizza = PizzaDetails('Large', \"Thin 'n' Crisp\", ['Sausage', 'Black Olives'])\n",
    "except Exception as e:\n",
    "    print(e)"
   ]
  },
  {
   "cell_type": "markdown",
   "metadata": {},
   "source": [
    "Invalid topping"
   ]
  },
  {
   "cell_type": "code",
   "execution_count": 5,
   "metadata": {},
   "outputs": [
    {
     "name": "stdout",
     "output_type": "stream",
     "text": [
      "Error creating PizzaDetails: One of the toppings has an invalid name\n"
     ]
    }
   ],
   "source": [
    "try:\n",
    "    test_pizza = PizzaDetails('Large', \"Thin 'n' Crispy\", ['Summer Sausage', 'Black Olives'])\n",
    "except Exception as e:\n",
    "    print(e)"
   ]
  },
  {
   "cell_type": "markdown",
   "metadata": {},
   "source": [
    "Valid details"
   ]
  },
  {
   "cell_type": "code",
   "execution_count": 6,
   "metadata": {},
   "outputs": [],
   "source": [
    "test_pizza = PizzaDetails('Large', \"Thin 'n' Crispy\", ['Sausage', 'Black Olives'])"
   ]
  },
  {
   "cell_type": "markdown",
   "metadata": {},
   "source": [
    "#### Test add_to_cart"
   ]
  },
  {
   "cell_type": "code",
   "execution_count": 7,
   "metadata": {},
   "outputs": [],
   "source": [
    "test_pizza_2 = PizzaDetails('Medium', 'Hand Tossed', ['Pepperoni'])\n",
    "test_pizza_3 = PizzaDetails('Small', 'Stuffed Crust', ['Green Bell Pepper', 'Ham', 'Onion'])\n",
    "\n",
    "add_to_cart(test_pizza)\n",
    "add_to_cart(test_pizza_2)\n",
    "add_to_cart(test_pizza_3)"
   ]
  },
  {
   "cell_type": "markdown",
   "metadata": {},
   "source": [
    "#### Test get_cart"
   ]
  },
  {
   "cell_type": "code",
   "execution_count": 8,
   "metadata": {},
   "outputs": [
    {
     "name": "stdout",
     "output_type": "stream",
     "text": [
      "Large, Thin 'n' Crispy w/ Black Olives, Sausage\n",
      "Medium, Hand Tossed w/ Pepperoni\n",
      "Small, Stuffed Crust w/ Green Bell Pepper, Ham, Onion\n"
     ]
    }
   ],
   "source": [
    "cart = get_cart()\n",
    "\n",
    "for pizza in cart:\n",
    "    print(pizza)"
   ]
  },
  {
   "cell_type": "markdown",
   "metadata": {},
   "source": [
    "#### Test get_price"
   ]
  },
  {
   "cell_type": "code",
   "execution_count": 9,
   "metadata": {},
   "outputs": [
    {
     "name": "stdout",
     "output_type": "stream",
     "text": [
      "Large, Thin 'n' Crispy w/ Black Olives, Sausage\n",
      "Price: 15.49\n",
      "\n",
      "Small, Stuffed Crust w/ Green Bell Pepper, Ham, Onion\n",
      "Price: 12.73\n"
     ]
    }
   ],
   "source": [
    "pizza = cart[0]\n",
    "print(pizza)\n",
    "print (f'Price: {pizza.get_price()}\\n')\n",
    "\n",
    "pizza_2 = cart[2]\n",
    "print(pizza_2)\n",
    "print (f'Price: {pizza_2.get_price()}')"
   ]
  },
  {
   "cell_type": "markdown",
   "metadata": {},
   "source": [
    "#### Test remove_from_cart"
   ]
  },
  {
   "cell_type": "code",
   "execution_count": 10,
   "metadata": {},
   "outputs": [
    {
     "name": "stdout",
     "output_type": "stream",
     "text": [
      "Medium, Hand Tossed w/ Pepperoni\n",
      "Small, Stuffed Crust w/ Green Bell Pepper, Ham, Onion\n"
     ]
    }
   ],
   "source": [
    "remove_from_cart(0)\n",
    "\n",
    "for pizza in get_cart():\n",
    "    print(pizza)"
   ]
  },
  {
   "cell_type": "markdown",
   "metadata": {},
   "source": [
    "#### Test purchase_cart"
   ]
  },
  {
   "cell_type": "code",
   "execution_count": 11,
   "metadata": {},
   "outputs": [
    {
     "name": "stdout",
     "output_type": "stream",
     "text": [
      "[]\n"
     ]
    }
   ],
   "source": [
    "customerInfo = CustomerInfo(1235554321, 'John', 'Doe')\n",
    "\n",
    "purchase_cart(customerInfo)\n",
    "\n",
    "print(get_cart())"
   ]
  }
 ],
 "metadata": {
  "kernelspec": {
   "display_name": ".venv",
   "language": "python",
   "name": "python3"
  },
  "language_info": {
   "codemirror_mode": {
    "name": "ipython",
    "version": 3
   },
   "file_extension": ".py",
   "mimetype": "text/x-python",
   "name": "python",
   "nbconvert_exporter": "python",
   "pygments_lexer": "ipython3",
   "version": "3.11.8"
  }
 },
 "nbformat": 4,
 "nbformat_minor": 2
}
