{
 "cells": [
  {
   "cell_type": "markdown",
   "metadata": {},
   "source": [
    "Remove database to start with clean slate"
   ]
  },
  {
   "cell_type": "code",
   "execution_count": 1,
   "metadata": {},
   "outputs": [],
   "source": [
    "import os\n",
    "\n",
    "os.remove('Data.db')"
   ]
  },
  {
   "cell_type": "markdown",
   "metadata": {},
   "source": [
    "Test database initialization"
   ]
  },
  {
   "cell_type": "code",
   "execution_count": 2,
   "metadata": {},
   "outputs": [
    {
     "name": "stdout",
     "output_type": "stream",
     "text": [
      "Database initialized\n"
     ]
    }
   ],
   "source": [
    "from Backend import *"
   ]
  },
  {
   "cell_type": "markdown",
   "metadata": {},
   "source": [
    "Test add_to_cart"
   ]
  },
  {
   "cell_type": "code",
   "execution_count": 3,
   "metadata": {},
   "outputs": [],
   "source": [
    "test_pizza = {\n",
    "    'size': 'Large',\n",
    "    'crust': \"Thin 'n' Crispy\",\n",
    "    'toppings': ['Sausage', 'Black Olives'],\n",
    "    'price': 100.25\n",
    "}\n",
    "test_pizza_2 = {\n",
    "    'size': 'Medium',\n",
    "    'crust': \"Tossed\",\n",
    "    'toppings': ['Pepperoni'],\n",
    "    'price': 12.34\n",
    "}\n",
    "test_pizza_3 = {\n",
    "    'size': 'Small',\n",
    "    'crust': \"Stuffed\",\n",
    "    'toppings': ['Green Bell Pepper', 'Ham', 'Onion'],\n",
    "    'price': 43.21\n",
    "}\n",
    "\n",
    "add_to_cart(test_pizza)\n",
    "add_to_cart(test_pizza_2)\n",
    "add_to_cart(test_pizza_3)"
   ]
  },
  {
   "cell_type": "markdown",
   "metadata": {},
   "source": [
    "Test get_cart"
   ]
  },
  {
   "cell_type": "code",
   "execution_count": 4,
   "metadata": {},
   "outputs": [
    {
     "name": "stdout",
     "output_type": "stream",
     "text": [
      "[{'size': 'Large', 'crust': \"Thin 'n' Crispy\", 'toppings': ['Black Olives', 'Sausage'], 'price': 100.25}, {'size': 'Medium', 'crust': 'Tossed', 'toppings': ['Pepperoni'], 'price': 12.34}, {'size': 'Small', 'crust': 'Stuffed', 'toppings': ['Green Bell Pepper', 'Ham', 'Onion'], 'price': 43.21}]\n"
     ]
    }
   ],
   "source": [
    "print(get_cart())"
   ]
  },
  {
   "cell_type": "markdown",
   "metadata": {},
   "source": [
    "Test remove_from_cart"
   ]
  },
  {
   "cell_type": "code",
   "execution_count": 5,
   "metadata": {},
   "outputs": [
    {
     "name": "stdout",
     "output_type": "stream",
     "text": [
      "[{'size': 'Medium', 'crust': 'Tossed', 'toppings': ['Pepperoni'], 'price': 12.34}, {'size': 'Small', 'crust': 'Stuffed', 'toppings': ['Green Bell Pepper', 'Ham', 'Onion'], 'price': 43.21}]\n"
     ]
    }
   ],
   "source": [
    "remove_from_cart(0)\n",
    "\n",
    "print(get_cart())"
   ]
  },
  {
   "cell_type": "markdown",
   "metadata": {},
   "source": [
    "Test purchase_cart"
   ]
  },
  {
   "cell_type": "code",
   "execution_count": 6,
   "metadata": {},
   "outputs": [
    {
     "name": "stdout",
     "output_type": "stream",
     "text": [
      "[]\n"
     ]
    }
   ],
   "source": [
    "customerInfo = CustomerInfo(1235554321, 'John', 'Doe')\n",
    "\n",
    "purchase_cart(customerInfo)\n",
    "\n",
    "print(get_cart())"
   ]
  }
 ],
 "metadata": {
  "kernelspec": {
   "display_name": ".venv",
   "language": "python",
   "name": "python3"
  },
  "language_info": {
   "codemirror_mode": {
    "name": "ipython",
    "version": 3
   },
   "file_extension": ".py",
   "mimetype": "text/x-python",
   "name": "python",
   "nbconvert_exporter": "python",
   "pygments_lexer": "ipython3",
   "version": "3.11.8"
  }
 },
 "nbformat": 4,
 "nbformat_minor": 2
}
